{
  "nbformat": 4,
  "nbformat_minor": 0,
  "metadata": {
    "colab": {
      "provenance": [],
      "authorship_tag": "ABX9TyM9ALFG6EvD/B+AxR195lg6",
      "include_colab_link": true
    },
    "kernelspec": {
      "name": "python3",
      "display_name": "Python 3"
    },
    "language_info": {
      "name": "python"
    }
  },
  "cells": [
    {
      "cell_type": "markdown",
      "metadata": {
        "id": "view-in-github",
        "colab_type": "text"
      },
      "source": [
        "<a href=\"https://colab.research.google.com/github/jhighman/C-Coding-Campaign/blob/main/Module2_MazeGame.ipynb\" target=\"_parent\"><img src=\"https://colab.research.google.com/assets/colab-badge.svg\" alt=\"Open In Colab\"/></a>"
      ]
    },
    {
      "cell_type": "code",
      "execution_count": null,
      "metadata": {
        "id": "DUOuCyMLuA8b"
      },
      "outputs": [],
      "source": []
    },
    {
      "cell_type": "markdown",
      "source": [
        "# C-Coding-Campaign: Lesson 2: Maze Game\n",
        "At the end of this lesson you will be a game developer.  We will explore arrays, loops, logical and even touch on the subject of pointers.\n",
        "\n",
        "## Recap of Lesson 1: The Basics of C and Introduction to Functional Programming\n",
        "\n",
        "In our first lesso we covered:\n",
        "\n",
        "- Setting up the development environment.\n",
        "- Writing and running our first C programs.\n",
        "- Exploring basic syntax, variables, and simple I/O operations.\n",
        "- Introducing the concept of functional programming (we will go further with this today)\n",
        "\n",
        "### What it's all about\n",
        "Think of programming as constructing with Lego bricks, where each function is a foundational piece.\n",
        "\n",
        "- **Bottom-Up Thinking:** Focus on the small parts (functions) to understand and build the whole (programs).\n",
        "- **Top-Down Thinking:** Visualize the final structure first, then break it down into smaller, manageable pieces.\n",
        "\n",
        "This isn't just programming. It's about a way of organizing your thinking. The key to software development is that you don't always begin with with a full understanding of a solution.  You start with a general idea (top down) and you break it down into small pieces and work your way up (bottom up).  Start small, think biger, and scale. This is how all great products have ever been.\n",
        "\n",
        "---\n"
      ],
      "metadata": {
        "id": "ddKw1UQRvuhJ"
      }
    },
    {
      "cell_type": "code",
      "source": [
        "#include <stdio.h>\n",
        "\n",
        "// Function to ask the user to go left or right\n",
        "// Returns 1 for right, 0 for left\n",
        "int goLeftOrRight() {\n",
        "    char choice;\n",
        "\n",
        "    printf(\"Do you want to go left or right? (l/r): \");\n",
        "    scanf(\" %c\", &choice); // The space before %c is to skip any whitespace\n",
        "\n",
        "    if (choice == 'r' || choice == 'R') {\n",
        "        return 1; // Right\n",
        "    } else {\n",
        "        return 0; // Left or any other input\n",
        "    }\n",
        "}\n",
        "\n",
        "int main() {\n",
        "    if (goLeftOrRight()) {\n",
        "        printf(\"You chose to go right.\\n\");\n",
        "    } else {\n",
        "        printf(\"You chose to go left.\\n\");\n",
        "    }\n",
        "\n",
        "    return 0;\n",
        "}\n"
      ],
      "metadata": {
        "id": "D9UieipM0QrD"
      },
      "execution_count": null,
      "outputs": []
    },
    {
      "cell_type": "code",
      "source": [
        "int main() {\n",
        "    int decision = goLeftOrRight();\n",
        "\n",
        "    if (decision) {\n",
        "        printf(\"You chose to go right.\\n\");\n",
        "    } else {\n",
        "        printf(\"You chose to go left.\\n\");\n",
        "    }\n",
        "\n",
        "    return 0;\n",
        "}\n"
      ],
      "metadata": {
        "id": "hAmnDTb82MFb"
      },
      "execution_count": null,
      "outputs": []
    },
    {
      "cell_type": "markdown",
      "source": [
        "# Explanation of the `goLeftOrRight` Function\n",
        "\n",
        "The `goLeftOrRight` function is a simple, yet powerful example of encapsulation and function usage in C programming. Let's break down its key aspects:\n",
        "\n",
        "## Function Without Input Arguments\n",
        "No Input Arguments: This design means the function operates independently, relying solely on user input during execution. It's a straightforward example of a function that doesn't depend on external arguments.\n",
        "\n",
        "```c\n",
        "int goLeftOrRight() {\n",
        "    // Function body\n",
        "}\n",
        "\n"
      ],
      "metadata": {
        "id": "SlfQbU5x4jdK"
      }
    },
    {
      "cell_type": "markdown",
      "source": [],
      "metadata": {
        "id": "46ozZVCT_eMJ"
      }
    },
    {
      "cell_type": "markdown",
      "source": [
        "## Local Variable Scope\n",
        "\n",
        "The choice variable is local to goLeftOrRight, meaning its scope and existence are limited to this function. This encapsulation makes our code more modular and prevents variable naming conflicts.\n",
        "\n",
        "Within the function, a local variable `choice` is declared to store the user's decision:\n",
        "\n",
        "```c\n",
        "char choice;\n",
        "// Code to read user input\n"
      ],
      "metadata": {
        "id": "xfjpvqoq58y6"
      }
    },
    {
      "cell_type": "markdown",
      "source": [
        "## Function Return and Binary Result\n",
        "\n",
        "The function concludes with a return statement that provides a binary decision.Binary\n",
        "\n",
        "Return Value: It returns an int representing a binary choice. In C, where there's no native boolean type, 0 is used for false (left) and 1 (or any non-zero value) for true (right).\n",
        "Use in Conditionals: This binary return value is particularly useful for conditional statements (if, switch, for).\n",
        "\n",
        "```c\n",
        "if (choice == 'r' || choice == 'R') {\n",
        "    return 1; // Right\n",
        "} else {\n",
        "    return 0; // Left\n",
        "}\n"
      ],
      "metadata": {
        "id": "9I9_ytwT65zT"
      }
    },
    {
      "cell_type": "markdown",
      "source": [
        "# Simple Maze Game Using `goLeftOrRight` Function and Loops\n",
        "\n",
        "## Overview\n",
        "\n",
        "We will design a simple maze game to demonstrate the use of loops with our `goLeftOrRight` function. The player navigates through a maze, making decisions at each turn until they find the exit.\n",
        "\n",
        "## Pseudo-Code for the Game\n",
        "\n",
        "```plaintext\n",
        "Initialize foundExit as False\n",
        "Initialize turns as 0\n",
        "\n",
        "While foundExit is False:\n",
        "    Prompt \"You're in a maze. Turn X.\"\n",
        "    Call goLeftOrRight function\n",
        "    If decision is right:\n",
        "        Print \"You turn right.\"\n",
        "    Else:\n",
        "        Print \"You turn left.\"\n",
        "    Increment turns\n",
        "\n",
        "    If turns reach a certain number (e.g., 5):\n",
        "        Set foundExit to True\n",
        "        Print \"You've found the exit after X turns!\"\n",
        "\n",
        "End While\n"
      ],
      "metadata": {
        "id": "VXZDFPsh-Wik"
      }
    },
    {
      "cell_type": "code",
      "source": [
        "#include <stdio.h>\n",
        "\n",
        "// Function declaration\n",
        "int goLeftOrRight();\n",
        "\n",
        "int main() {\n",
        "    int foundExit = 0; // Flag to check if the exit is found\n",
        "    int turns = 0; // Count the number of turns taken\n",
        "\n",
        "    // Game loop\n",
        "    while (!foundExit) {\n",
        "        printf(\"You're in a maze. Turn %d. \", turns + 1);\n",
        "        if (goLeftOrRight()) {\n",
        "            printf(\"You turn right.\\n\");\n",
        "        } else {\n",
        "            printf(\"You turn left.\\n\");\n",
        "        }\n",
        "\n",
        "        turns++;\n",
        "\n",
        "        // Simple condition to end the loop (could be replaced with actual game logic)\n",
        "        if (turns == 5) {\n",
        "            foundExit = 1;\n",
        "            printf(\"You've found the exit after %d turns!\\n\", turns);\n",
        "        }\n",
        "    }\n",
        "\n",
        "    return 0;\n",
        "}\n",
        "\n",
        "// Function definition\n",
        "int goLeftOrRight() {\n",
        "    char choice;\n",
        "    printf(\"Do you want to go left or right? (l/r): \");\n",
        "    scanf(\" %c\", &choice);\n",
        "    return choice == 'r' || choice == 'R';\n",
        "}\n"
      ],
      "metadata": {
        "id": "Ju7WexSd7h1z"
      },
      "execution_count": null,
      "outputs": []
    },
    {
      "cell_type": "markdown",
      "source": [
        "# Key Concepts Summary: Maze Game with Loops and Decision-Making\n",
        "\n",
        "## Loop for Game Progression\n",
        "- Utilizes a `while` loop to simulate navigation through a maze.\n",
        "- Continuously prompts the player for decisions until an exit condition is met.\n",
        "\n",
        "## Integration of `goLeftOrRight` Function\n",
        "- Demonstrates the use of user-defined functions within a loop.\n",
        "- Each loop iteration calls `goLeftOrRight` to decide the game's direction.\n",
        "\n",
        "## Conditional Logic and Exit Condition\n",
        "- Implements conditional statements to determine the game's flow.\n",
        "- The game loop concludes when a predefined exit condition (e.g., a certain number of turns) is reached.\n",
        "\n",
        "## You now understand\n",
        "- **Loops:** How loops facilitate repeated execution of code.\n",
        "- **Function Integration:** Learn to incorporate custom functions for interactive scenarios.\n",
        "- **Decision-Making:** Apply conditional logic to create engaging and dynamic game mechanics.\n",
        "\n",
        "\n"
      ],
      "metadata": {
        "id": "_kCuMBQv_jtm"
      }
    },
    {
      "cell_type": "markdown",
      "source": [
        "# Expanding the Maze Game: Introducing Arrays and For Loops\n",
        "\n",
        "## Concept Introduction: Arrays and Items Collection\n",
        "\n",
        "In this enhancement of our maze game, the player must collect key items to unlock the maze's final exit. These items are stored in an array, demonstrating how arrays can be used to manage collections of elements.\n",
        "\n",
        "```c\n",
        "char* items[] = {\"Key\", \"Map\", \"Torch\", \"Compass\"};\n",
        "int numberOfItems = sizeof(items) / sizeof(items[0]);\n"
      ],
      "metadata": {
        "id": "uI5Auz36V5AP"
      }
    },
    {
      "cell_type": "markdown",
      "source": [
        "The game now includes a for loop to iterate over each item in the array. At each item, the player faces a challenge or decision.\n",
        "```c\n",
        "for (int i = 0; i < numberOfItems; i++) {\n",
        "    printf(\"You found a %s.\\n\", items[i]);\n",
        "    // Implement challenge or decision related to the item\n",
        "}\n"
      ],
      "metadata": {
        "id": "VDPOE-uGWPa6"
      }
    },
    {
      "cell_type": "markdown",
      "source": [
        "```c\n",
        "#include <stdio.h>\n",
        "\n",
        "int goLeftOrRight();\n",
        "\n",
        "int main() {\n",
        "    char* items[] = {\"Key\", \"Map\", \"Torch\", \"Compass\"};\n",
        "    int numberOfItems = sizeof(items) / sizeof(items[0]);\n",
        "    int foundExit = 0;\n",
        "    int turns = 0;\n",
        "\n",
        "    printf(\"Welcome to the Maze Game!\\n\");\n",
        "\n",
        "    for (int i = 0; i < numberOfItems; i++) {\n",
        "        printf(\"\\nTurn %d: You encounter a %s.\\n\", turns + 1, items[i]);\n",
        "        \n",
        "        // Decision point using goLeftOrRight function\n",
        "        if (goLeftOrRight()) {\n",
        "            printf(\"You chose to turn right.\\n\");\n",
        "        } else {\n",
        "            printf(\"You chose to turn left.\\n\");\n",
        "        }\n",
        "\n",
        "        // Simulate a scenario for each item\n",
        "        printf(\"You have found and collected the %s.\\n\", items[i]);\n",
        "\n",
        "        turns++;\n",
        "\n",
        "        // Check for exit condition\n",
        "        if (i == numberOfItems - 1) {\n",
        "            foundExit = 1;\n",
        "            printf(\"\\nYou've collected all items and found the exit after %d turns!\\n\", turns);\n",
        "        }\n",
        "    }\n",
        "\n",
        "    return 0;\n",
        "}\n",
        "\n",
        "int goLeftOrRight() {\n",
        "    char choice;\n",
        "    printf(\"Do you want to go left or right? (l/r): \");\n",
        "    scanf(\" %c\", &choice);\n",
        "    return choice == 'r' || choice == 'R';\n",
        "}\n"
      ],
      "metadata": {
        "id": "FM6_sEVkXJhA"
      }
    },
    {
      "cell_type": "markdown",
      "source": [
        "# Pseudo-Code for the Expanded Maze Game\n",
        "\n",
        "## Game Setup\n",
        "\n",
        "- Initialize an array `items` with elements `\"Key\"`, `\"Map\"`, `\"Torch\"`, and `\"Compass\"`.\n",
        "- Determine the number of items in the array using `numberOfItems`.\n",
        "- Set `foundExit` as false and `turns` to 0.\n",
        "\n",
        "## Game Loop\n",
        "\n",
        "- Start a for loop iterating from 0 to `numberOfItems - 1`.\n",
        "  - Print the current turn and the encountered item from the `items` array.\n",
        "  - Call the `goLeftOrRight` function to make a decision.\n",
        "    - If the decision is right, print \"You chose to turn right.\"\n",
        "    - Else, print \"You chose to turn left.\"\n",
        "  - Print that the player has collected the current item.\n",
        "  - Increment the `turns` counter.\n",
        "  - Check if the loop is at the last item:\n",
        "    - If true, set `foundExit` to true and print the exit message with the number of turns.\n",
        "\n",
        "## End of Game\n",
        "\n",
        "- The game concludes when all items are collected and the player finds the exit.\n",
        "\n"
      ],
      "metadata": {
        "id": "qMEha0X6Ygfc"
      }
    },
    {
      "cell_type": "markdown",
      "source": [
        "# Understanding the For Loop in the Maze Game\n",
        "\n",
        "In our maze game, we've transitioned from using a `while` loop to a `for` loop. Let's break down the `for` loop construct and understand how it's used in our game scenario.\n",
        "\n",
        "## For Loop vs. While Loop\n",
        "\n",
        "- **While Loop:** Previously, we used a `while` loop, which runs as long as its condition is true. The game continued until the `foundExit` condition was met, a flexible but less controlled approach.\n",
        "- **For Loop:** In contrast, a `for` loop is ideal when we know in advance how many times the loop should run. It's structured and perfect for iterating over fixed sequences, like arrays.\n",
        "\n",
        "## For Loop Structure\n",
        "\n",
        "The `for` loop consists of three parts:\n",
        "\n",
        "1. **Initialization:** Set up a counter (`int i = 0`).\n",
        "2. **Condition:** Continue the loop as long as the condition (`i < numberOfItems`) is true.\n",
        "3. **Increment:** Increase the counter (`i++`) after each loop iteration.\n",
        "\n",
        "## Application in the Maze Game\n",
        "\n",
        "```c\n",
        "for (int i = 0; i < numberOfItems; i++) {\n",
        "    // Game logic\n",
        "}\n"
      ],
      "metadata": {
        "id": "nQHlIBo1amI2"
      }
    },
    {
      "cell_type": "markdown",
      "source": [
        "Now let's make more advanced.\n",
        "```c\n",
        "#include <stdio.h>\n",
        "\n",
        "int main() {\n",
        "    char* items[] = {\"Key\", \"Map\", \"Torch\", \"Compass\"};\n",
        "    char** pItem;\n",
        "\n",
        "    for (pItem = items; pItem < items + sizeof(items) / sizeof(items[0]); pItem++) {\n",
        "        printf(\"Item: %s\\n\", *pItem);\n",
        "    }\n",
        "\n",
        "    return 0;\n",
        "}\n"
      ],
      "metadata": {
        "id": "p3SPehTgbdga"
      }
    },
    {
      "cell_type": "code",
      "source": [],
      "metadata": {
        "id": "pp1kJcCWWhZH"
      },
      "execution_count": null,
      "outputs": []
    },
    {
      "cell_type": "markdown",
      "source": [
        "# Iterating Through an Array Using Pointers\n",
        "\n",
        "In this approach, we'll use a pointer-based `for` loop to iterate through the `items` array. This method provides a more direct way of accessing array elements.\n",
        "\n",
        "## Pointer-Based For Loop\n",
        "\n",
        "Here's the structure of our pointer-based `for` loop:\n",
        "\n",
        "```c\n",
        "char** pItem;\n",
        "\n",
        "for (pItem = items; pItem < items + sizeof(items) / sizeof(items[0]); pItem++) {\n",
        "    // Access the item pointed by pItem\n",
        "}\n"
      ],
      "metadata": {
        "id": "vN9N-iufb8Qm"
      }
    },
    {
      "cell_type": "markdown",
      "source": [
        "# Pointer-Based For Loop Explained\n",
        "\n",
        "In our maze game, we can use a pointer-based `for` loop to iterate through the `items` array. This type of loop is particularly useful for array manipulation. Let's break it down:\n",
        "\n",
        "## 1. Initialization\n",
        "**Pointer Declaration:** pItem is declared as a pointer to a pointer (char**). In C, an array name (like items) is essentially a pointer to its first element.\n",
        "**Initial Value:** pItem is initialized to point to the first element of the items array. This is where our loop will start iterating.\n",
        "\n",
        "```c\n",
        "char** pItem = items;\n"
      ],
      "metadata": {
        "id": "OK1akOZ6cwAE"
      }
    },
    {
      "cell_type": "markdown",
      "source": [
        "Calculating Array End: items + sizeof(items) / sizeof(items[0]) calculates the address just past the last element of the array. It's a common pattern in C for finding the array's end.\n",
        "\n",
        "```c\n",
        "pItem < items + sizeof(items) / sizeof(items[0])\n"
      ],
      "metadata": {
        "id": "yjnOwT-rdls1"
      }
    },
    {
      "cell_type": "markdown",
      "source": [
        "**Advancing the Pointer**: Each iteration of the loop increments pItem to point to the next array element.\n",
        "\n",
        "**Pointer Arithmetic:** In C, when you increment a pointer, it advances to point to the next element of its type. Here, pItem points to the next char* in the items array.\n",
        "```c\n",
        "pItem++\n"
      ],
      "metadata": {
        "id": "ZQ5Kg5noedUG"
      }
    },
    {
      "cell_type": "code",
      "source": [],
      "metadata": {
        "id": "u-A2XGPDczZb"
      },
      "execution_count": null,
      "outputs": []
    },
    {
      "cell_type": "markdown",
      "source": [
        "## Understanding Pointers\n",
        "\n",
        "Pointers are a fundamental but often challenging concept for beginners in C programming. Let's break down what pointers are and why they are used:\n",
        "\n",
        "- **What is a Pointer?**\n",
        "  - A pointer is a variable that stores the memory address of another variable. Instead of holding a direct value, it points to the location in memory where a value is stored.\n",
        "\n",
        "- **Pointer Basics:**\n",
        "  - **Declaration:** A pointer is declared with a `*` symbol. For example, `int* ptr;` declares a pointer to an `int`.\n",
        "  - **Assignment:** You assign a pointer the address of a variable using the `&` operator. For example, `ptr = &var;`.\n",
        "  - **Dereferencing:** Using `*` with a pointer accesses the value at the pointer's address. For example, `*ptr` gives you the value of `var`.\n",
        "\n",
        "- **Why Use Pointers?**\n",
        "  - Pointers provide a way to directly manipulate the memory, which can lead to more efficient code. They are essential for dynamic memory allocation, working with arrays and strings, and handling complex data structures.\n",
        "\n",
        "- **Pointer to Pointer:**\n",
        "  - A pointer to a pointer (e.g., `char**`) is used to point to another pointer. This can be particularly useful in multidimensional arrays or dynamically allocated structures.\n",
        "\n",
        "Understanding pointers is key to advancing in C programming. They allow for more complex operations and data manipulations, essential for higher-level programming tasks.\n"
      ],
      "metadata": {
        "id": "4pXRuHrifuxu"
      }
    },
    {
      "cell_type": "markdown",
      "source": [
        "Now let's look at our game using pointers.  As you can see, the for statemet is a bit more complex and diffficult to read.  When you see code that is difficult to read, that's a good reason to consider using functions to organize your logic further. (We will do this next).\n",
        "\n",
        "```c\n",
        "#include <stdio.h>\n",
        "\n",
        "int goLeftOrRight();\n",
        "\n",
        "int main() {\n",
        "    char* items[] = {\"Key\", \"Map\", \"Torch\", \"Compass\"};\n",
        "    char** pItem;\n",
        "    int foundExit = 0;\n",
        "    int turns = 0;\n",
        "\n",
        "    printf(\"Welcome to the Maze Game!\\n\");\n",
        "\n",
        "    for (pItem = items; pItem < items + sizeof(items) / sizeof(items[0]); pItem++) {\n",
        "        printf(\"\\nTurn %d: You find a %s.\\n\", turns + 1, *pItem);\n",
        "\n",
        "        if (goLeftOrRight()) {\n",
        "            printf(\"You chose to turn right.\\n\");\n",
        "        } else {\n",
        "            printf(\"You chose to turn left.\\n\");\n",
        "        }\n",
        "\n",
        "        printf(\"You have collected the %s.\\n\", *pItem);\n",
        "        turns++;\n",
        "\n",
        "        if ((pItem - items) == sizeof(items) / sizeof(items[0]) - 1) {\n",
        "            foundExit = 1;\n",
        "            printf(\"\\nYou've collected all items and found the exit after %d turns!\\n\", turns);\n",
        "            break;\n",
        "        }\n",
        "    }\n",
        "\n",
        "    return 0;\n",
        "}\n",
        "\n",
        "int goLeftOrRight() {\n",
        "    char choice;\n",
        "    printf(\"Do you want to go left or right? (l/r): \");\n",
        "    scanf(\" %c\", &choice);\n",
        "    return choice == 'r' || choice == 'R';\n",
        "}\n",
        "\n"
      ],
      "metadata": {
        "id": "d4pfsfCQg5Jj"
      }
    },
    {
      "cell_type": "markdown",
      "source": [
        "## Function for Checking End of Array\n",
        "We can create a function named isEndOfArray that takes the pointer pItem and the array items as arguments and returns a boolean indicating whether pItem has reached the end of the array.\n",
        "\n",
        "By encapsulating this condition into a function, the code becomes clearer, and the logic is more easily understood.\n",
        "```c\n",
        "#include <stdio.h>\n",
        "\n",
        "int goLeftOrRight();\n",
        "int isEndOfArray(char** pItem, char** items, int size);\n",
        "\n",
        "int main() {\n",
        "    char* items[] = {\"Key\", \"Map\", \"Torch\", \"Compass\"};\n",
        "    char** pItem;\n",
        "    int size = sizeof(items) / sizeof(items[0]);\n",
        "    int foundExit = 0;\n",
        "    int turns = 0;\n",
        "\n",
        "    printf(\"Welcome to the Maze Game!\\n\");\n",
        "\n",
        "    for (pItem = items; !isEndOfArray(pItem, items, size); pItem++) {\n",
        "        printf(\"\\nTurn %d: You find a %s.\\n\", turns + 1, *pItem);\n",
        "        // ... rest of the game logic ...\n",
        "    }\n",
        "\n",
        "    // ... rest of the main function ...\n",
        "\n",
        "    return 0;\n",
        "}\n",
        "\n",
        "int isEndOfArray(char** pItem, char** items, int size) {\n",
        "    return pItem >= items + size;\n",
        "}\n",
        "\n",
        "int goLeftOrRight() {\n",
        "    // ... implementation of goLeftOrRight ...\n",
        "}\n"
      ],
      "metadata": {
        "id": "F_OV2rxFjN9W"
      }
    },
    {
      "cell_type": "markdown",
      "source": [
        "Function for Checking the Last Item\n",
        "The isLastItem function will take the pointer pItem, the array items, and the size of the array as arguments. It returns a boolean indicating whether pItem is pointing to the last element of the array.\n",
        "\n",
        "```c\n",
        "#include <stdio.h>\n",
        "\n",
        "int goLeftOrRight();\n",
        "int isEndOfArray(char** pItem, char** items, int size);\n",
        "int isLastItem(char** pItem, char** items, int size);\n",
        "\n",
        "int main() {\n",
        "    char* items[] = {\"Key\", \"Map\", \"Torch\", \"Compass\"};\n",
        "    char** pItem;\n",
        "    int size = sizeof(items) / sizeof(items[0]);\n",
        "    int turns = 0;\n",
        "\n",
        "    printf(\"Welcome to the Maze Game!\\n\");\n",
        "\n",
        "    for (pItem = items; !isEndOfArray(pItem, items, size); pItem++) {\n",
        "        printf(\"\\nTurn %d: You find a %s.\\n\", turns + 1, *pItem);\n",
        "\n",
        "        // ... Game logic ...\n",
        "\n",
        "        turns++;\n",
        "\n",
        "        if (isLastItem(pItem, items, size)) {\n",
        "            printf(\"\\nYou've collected all items and found the exit after %d turns!\\n\", turns);\n",
        "            break;\n",
        "        }\n",
        "    }\n",
        "\n",
        "    // ... Rest of the main function ...\n",
        "\n",
        "    return 0;\n",
        "}\n",
        "\n",
        "int isEndOfArray(char** pItem, char** items, int size) {\n",
        "    return pItem >= items + size;\n",
        "}\n",
        "\n",
        "int isLastItem(char** pItem, char** items, int size) {\n",
        "    return (pItem - items) == size - 1;\n",
        "}\n",
        "\n",
        "int goLeftOrRight() {\n",
        "    // ... Implementation of goLeftOrRight ...\n",
        "}\n"
      ],
      "metadata": {
        "id": "TeHME_UOlG3r"
      }
    },
    {
      "cell_type": "markdown",
      "source": [
        "Now let's put it all together and write our game with these improvements.\n",
        "```c\n",
        "#include <stdio.h>\n",
        "\n",
        "int goLeftOrRight();\n",
        "int isEndOfArray(char** pItem, char** items, int size);\n",
        "int isLastItem(char** pItem, char** items, int size);\n",
        "\n",
        "int main() {\n",
        "    char* items[] = {\"Key\", \"Map\", \"Torch\", \"Compass\"};\n",
        "    char** pItem;\n",
        "    int size = sizeof(items) / sizeof(items[0]);\n",
        "    int turns = 0;\n",
        "\n",
        "    printf(\"Welcome to the Maze Game!\\n\");\n",
        "\n",
        "    for (pItem = items; !isEndOfArray(pItem, items, size); pItem++) {\n",
        "        printf(\"\\nTurn %d: You find a %s.\\n\", turns + 1, *pItem);\n",
        "\n",
        "        if (goLeftOrRight()) {\n",
        "            printf(\"You chose to turn right.\\n\");\n",
        "        } else {\n",
        "            printf(\"You chose to turn left.\\n\");\n",
        "        }\n",
        "\n",
        "        printf(\"You have collected the %s.\\n\", *pItem);\n",
        "        turns++;\n",
        "\n",
        "        if (isLastItem(pItem, items, size)) {\n",
        "            printf(\"\\nYou've collected all items and found the exit after %d turns!\\n\", turns);\n",
        "            break;\n",
        "        }\n",
        "    }\n",
        "\n",
        "    return 0;\n",
        "}\n",
        "\n",
        "int goLeftOrRight() {\n",
        "    char choice;\n",
        "    printf(\"Do you want to go left or right? (l/r): \");\n",
        "    scanf(\" %c\", &choice);\n",
        "    return choice == 'r' || choice == 'R';\n",
        "}\n",
        "\n",
        "int isEndOfArray(char** pItem, char** items, int size) {\n",
        "    return pItem >= items + size;\n",
        "}\n",
        "\n",
        "int isLastItem(char** pItem, char** items, int size) {\n",
        "    return (pItem - items) == size - 1;\n",
        "}\n"
      ],
      "metadata": {
        "id": "hi0abwV4mN3F"
      }
    },
    {
      "cell_type": "code",
      "source": [],
      "metadata": {
        "id": "QiSv60I2lVIY"
      },
      "execution_count": null,
      "outputs": []
    },
    {
      "cell_type": "markdown",
      "source": [
        "# Embracing Functional Programming for Better Code Organization\n",
        "\n",
        "In developing our Maze Game, we've utilized functional programming principles to significantly enhance the organization, readability, and maintainability of our code. Functional programming involves creating and utilizing functions to encapsulate specific tasks or logic segments within our code.\n",
        "\n",
        "## Key Benefits of Functional Programming in Our Game\n",
        "\n",
        "### 1. Encapsulation of Logic\n",
        "\n",
        "- By defining functions like `goLeftOrRight`, `isEndOfArray`, and `isLastItem`, we encapsulate distinct logical operations.\n",
        "- Each function has a clear and specific purpose, leading to modular and organized code.\n",
        "\n",
        "### 2. Reusable Code\n",
        "\n",
        "- These functions can be easily reused across different parts of the program, showcasing one of the great strengths of functional programming.\n",
        "\n",
        "### 3. Easier Debugging and Maintenance\n",
        "\n",
        "- Segmenting logic into functions simplifies the debugging process. Issues can be isolated to specific functions, making them easier to identify and resolve.\n",
        "- Maintenance is more manageable as changes in one part of the code have minimal impact on others.\n",
        "\n",
        "### 4. Improved Readability\n",
        "\n",
        "- Functions such as `isEndOfArray` and `isLastItem` enhance the readability of the main game loop.\n",
        "- Using functions with descriptive names clarifies their purpose, avoiding complex and confusing in-line code.\n",
        "\n",
        "### 5. Focus on What, Not How\n",
        "\n",
        "- Functional programming shifts the focus from how the program performs its tasks (the specific mechanics) to what it does (the outcome).\n",
        "- This approach leads to clearer, more intuitive code.\n",
        "\n",
        "## Conclusion\n",
        "\n",
        "The application of functional programming in our Maze Game demonstrates how breaking down complex problems into smaller, function-based segments results in cleaner, more understandable code. This methodology is not only beneficial for the code quality but is also crucial for the learning and development of programming skills, particularly in a language like C.\n"
      ],
      "metadata": {
        "id": "RpgPivxSnyWo"
      }
    },
    {
      "cell_type": "markdown",
      "source": [
        "```c\n",
        "#include <stdio.h>\n",
        "#include <stdlib.h>\n",
        "#include <time.h>\n",
        "\n",
        "int getDirectionChoice();\n",
        "int isCorrectChoice(int choice, int correctChoice);\n",
        "void initializeRandom();\n",
        "\n",
        "int main() {\n",
        "    char* items[] = {\"Key\", \"Map\", \"Torch\", \"Compass\"};\n",
        "    int size = sizeof(items) / sizeof(items[0]);\n",
        "    int turns = 0;\n",
        "    int correctChoice, playerChoice;\n",
        "    int itemsFound = 0;\n",
        "\n",
        "    initializeRandom();\n",
        "    \n",
        "    printf(\"Welcome to the Enhanced Maze Game!\\n\");\n",
        "\n",
        "    while (itemsFound < size) {\n",
        "        correctChoice = rand() % 4; // Random choice between 0 and 3\n",
        "        printf(\"\\nTurn %d: Choose your direction to find the %s.\\n\", turns + 1, items[itemsFound]);\n",
        "        \n",
        "        playerChoice = getDirectionChoice();\n",
        "        turns++;\n",
        "\n",
        "        if (isCorrectChoice(playerChoice, correctChoice)) {\n",
        "            printf(\"You've found the %s!\\n\", items[itemsFound]);\n",
        "            itemsFound++;\n",
        "        } else {\n",
        "            printf(\"Wrong direction. Keep searching!\\n\");\n",
        "        }\n",
        "    }\n",
        "\n",
        "    printf(\"\\nCongratulations! You've found all items in %d turns!\\n\", turns);\n",
        "    return 0;\n",
        "}\n",
        "\n",
        "int getDirectionChoice() {\n",
        "    char choice;\n",
        "    printf(\"Choose a direction (l: left, r: right, f: forward, b: back): \");\n",
        "    scanf(\" %c\", &choice);\n",
        "\n",
        "    // Map the choices to numbers\n",
        "    switch(choice) {\n",
        "        case 'l': return 0;\n",
        "        case 'r': return 1;\n",
        "        case 'f': return 2;\n",
        "        case 'b': return 3;\n",
        "        default: return -1; // Invalid choice\n",
        "    }\n",
        "}\n",
        "\n",
        "int isCorrectChoice(int choice, int correctChoice) {\n",
        "    return choice == correctChoice;\n",
        "}\n",
        "\n",
        "void initializeRandom() {\n",
        "    srand(time(NULL)); // Initialize random seed\n",
        "}\n"
      ],
      "metadata": {
        "id": "2r1sKQVUpth5"
      }
    },
    {
      "cell_type": "code",
      "source": [],
      "metadata": {
        "id": "sO2NMMKJpzX7"
      },
      "execution_count": null,
      "outputs": []
    },
    {
      "cell_type": "markdown",
      "source": [
        "# Enhanced Maze Game: More Choices, More Fun\n",
        "\n",
        "We've upgraded the Maze Game to make it more interactive and challenging, introducing additional choices and incorporating randomness. This version aims to enhance the player's experience and demonstrate more advanced programming concepts.\n",
        "\n",
        "## Game Enhancements\n",
        "\n",
        "### Expanded Direction Choices\n",
        "\n",
        "- Players can now choose to go **left**, **right**, **forward**, or **back**.\n",
        "- This expansion adds more depth and decision-making to the game, moving beyond the simple binary choice of the previous version.\n",
        "\n",
        "### Integration of Randomness\n",
        "\n",
        "- The correct direction to find each item is randomly determined by the computer.\n",
        "- Randomness introduces an element of unpredictability, making each game unique and increasing the challenge.\n",
        "\n",
        "### Scoring Mechanism\n",
        "\n",
        "- The player's score is calculated based on the number of turns taken to find all the items.\n",
        "- The goal is to find all items in as few turns as possible, adding a strategic layer to the game.\n",
        "\n",
        "## Learning Objectives\n",
        "\n",
        "- **Randomness in Programming:** Understand how to use the `rand()` function and seed it with `srand()` for random number generation.\n",
        "- **Complex Decision-Making:** Learn how to handle multiple choices and map user inputs to program actions.\n",
        "- **Efficient Problem-Solving:** Encourage efficient decision-making, mimicking real-world scenarios where outcomes are based on optimal choices.\n",
        "\n"
      ],
      "metadata": {
        "id": "td8k8ATZq5VS"
      }
    },
    {
      "cell_type": "markdown",
      "source": [
        "# Understanding the Switch Statement in the Maze Game\n",
        "\n",
        "In the enhanced Maze Game, we use a `switch` statement to handle the player's direction choice. Let's compare it with other conditional statements and understand where it is best used.\n",
        "\n",
        "## The Switch Statement in Our Game\n",
        "\n",
        "```c\n",
        "int getDirectionChoice() {\n",
        "    char choice;\n",
        "    printf(\"Choose a direction (l: left, r: right, f: forward, b: back): \");\n",
        "    scanf(\" %c\", &choice);\n",
        "\n",
        "    switch(choice) {\n",
        "        case 'l': return 0;\n",
        "        case 'r': return 1;\n",
        "        case 'f': return 2;\n",
        "        case 'b': return 3;\n",
        "        default: return -1; // Invalid choice\n",
        "    }\n",
        "}\n"
      ],
      "metadata": {
        "id": "twQcnSZDriIR"
      }
    },
    {
      "cell_type": "markdown",
      "source": [
        "# Alternative Implementation Using If-Else Statements\n",
        "\n",
        "We can reimplement the `getDirectionChoice` function using `if-else` statements instead of a `switch` statement. This provides an opportunity to compare these two approaches.\n",
        "\n",
        "## If-Else Implementation\n",
        "\n",
        "```c\n",
        "int getDirectionChoice() {\n",
        "    char choice;\n",
        "    printf(\"Choose a direction (l: left, r: right, f: forward, b: back): \");\n",
        "    scanf(\" %c\", &choice);\n",
        "\n",
        "    if (choice == 'l') {\n",
        "        return 0;\n",
        "    } else if (choice == 'r') {\n",
        "        return 1;\n",
        "    } else if (choice == 'f') {\n",
        "        return 2;\n",
        "    } else if (choice == 'b') {\n",
        "        return 3;\n",
        "    } else {\n",
        "        return -1; // Invalid choice\n",
        "    }\n",
        "}\n"
      ],
      "metadata": {
        "id": "3y5Hiy3wsV4B"
      }
    },
    {
      "cell_type": "markdown",
      "source": [
        "## Differences and Considerations Between If-Else and Switch Statements\n",
        "\n",
        "When choosing between `if-else` and `switch` statements for a specific scenario like in our Maze Game, several factors come into play. Understanding these can guide you to make the most appropriate choice for your code's requirements.\n",
        "\n",
        "### Readability and Organization\n",
        "\n",
        "- **Switch Statement:** Provides a structured and clean way to handle multiple distinct cases. It is typically more readable, especially when dealing with many options.\n",
        "- **If-Else Statements:** While offering greater flexibility, can become lengthy and less intuitive with an increasing number of conditions.\n",
        "\n",
        "### Flexibility\n",
        "\n",
        "- **If-Else:** More suitable for complex conditions, ranges of values, or non-constant expressions.\n",
        "- **Switch:** Limited to discrete value comparisons against a single variable. Ideal for enumerated values or specific command inputs.\n",
        "\n",
        "### Code Length\n",
        "\n",
        "- **Switch:** Often more concise for scenarios with multiple distinct choices, reducing code complexity.\n",
        "- **If-Else:** Can lead to more verbose code when dealing with numerous distinct conditions.\n",
        "\n",
        "### Encapsulation and Code Integrity\n",
        "\n",
        "- **Function Encapsulation:** Our logic is encapsulated within the `getDirectionChoice` function. This encapsulation means that changes made within this function (like switching from `if-else` to `switch`) are localized and won't directly affect other parts of the code.\n",
        "- **Guaranteed Output:** Functions provide a guarantee to other parts of the code that call them. In our case, `getDirectionChoice` assures that a valid result (direction choice or an indication of an invalid choice) will always be returned, maintaining the integrity of the game's logic.\n",
        "- **Ease of Modification:** Due to this encapsulation, we can confidently modify the internal logic of the function, knowing that as long as we maintain the function's contract (input and output), the rest of the program remains unaffected.\n",
        "\n",
        "### Conclusion\n",
        "\n",
        "The choice between `if-else` and `switch` depends on the specific needs of the code, with each having its strengths. In scenarios like our Maze Game, where distinct, constant values are being compared, a `switch` statement offers clear advantages in terms of readability and organization. Additionally, the use of functions to encapsulate logic ensures that changes remain localized, preserving the overall integrity and functionality of the code.\n"
      ],
      "metadata": {
        "id": "JZnbtoKAtcp_"
      }
    }
  ]
}