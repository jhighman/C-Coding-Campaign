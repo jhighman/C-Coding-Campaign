{
  "nbformat": 4,
  "nbformat_minor": 0,
  "metadata": {
    "colab": {
      "provenance": [],
      "gpuType": "T4",
      "authorship_tag": "ABX9TyP4c73oCOhQsIvir+uXv9Lw",
      "include_colab_link": true
    },
    "kernelspec": {
      "name": "python3",
      "display_name": "Python 3"
    },
    "language_info": {
      "name": "python"
    },
    "accelerator": "GPU"
  },
  "cells": [
    {
      "cell_type": "markdown",
      "metadata": {
        "id": "view-in-github",
        "colab_type": "text"
      },
      "source": [
        "<a href=\"https://colab.research.google.com/github/jhighman/C-Coding-Campaign/blob/main/Module_1_Up2SpeedOnC.ipynb\" target=\"_parent\"><img src=\"https://colab.research.google.com/assets/colab-badge.svg\" alt=\"Open In Colab\"/></a>"
      ]
    },
    {
      "cell_type": "markdown",
      "source": [
        "Before starting this notebook, change the runtime to use GPU by selecting the Runtime button. Then check the c compiler version with the following commands to install a small extension to run nvcc from the Notebook cells."
      ],
      "metadata": {
        "id": "-KJWkb5iqqOt"
      }
    },
    {
      "cell_type": "code",
      "source": [
        "!nvcc --version\n",
        "!pip install git+https://github.com/andreinechaev/nvcc4jupyter.git\n",
        "%load_ext nvcc_plugin"
      ],
      "metadata": {
        "colab": {
          "base_uri": "https://localhost:8080/"
        },
        "id": "OSq5sy1PqNPH",
        "outputId": "1c2339f4-026f-4335-e3e9-65e3f24430f6"
      },
      "execution_count": null,
      "outputs": [
        {
          "output_type": "stream",
          "name": "stdout",
          "text": [
            "nvcc: NVIDIA (R) Cuda compiler driver\n",
            "Copyright (c) 2005-2023 NVIDIA Corporation\n",
            "Built on Tue_Aug_15_22:02:13_PDT_2023\n",
            "Cuda compilation tools, release 12.2, V12.2.140\n",
            "Build cuda_12.2.r12.2/compiler.33191640_0\n",
            "Collecting git+https://github.com/andreinechaev/nvcc4jupyter.git\n",
            "  Cloning https://github.com/andreinechaev/nvcc4jupyter.git to /tmp/pip-req-build-c4onki7l\n",
            "  Running command git clone --filter=blob:none --quiet https://github.com/andreinechaev/nvcc4jupyter.git /tmp/pip-req-build-c4onki7l\n",
            "  Resolved https://github.com/andreinechaev/nvcc4jupyter.git to commit 0d2ab99cccbbc682722e708515fe9c4cfc50185a\n",
            "  Preparing metadata (setup.py) ... \u001b[?25l\u001b[?25hdone\n",
            "The nvcc_plugin extension is already loaded. To reload it, use:\n",
            "  %reload_ext nvcc_plugin\n"
          ]
        }
      ]
    },
    {
      "cell_type": "markdown",
      "source": [
        "To run C code in your notebook, add the %%cu extension at the beginning of your code.  This works for basic code, but it doesn't work if you need to get input from the terminal."
      ],
      "metadata": {
        "id": "bhtcfgY2rwpG"
      }
    },
    {
      "cell_type": "code",
      "source": [
        "%%cu\n",
        "#include <iostream>\n",
        "\tint\n",
        "\tmain()\n",
        "{\n",
        "\tprintf(\"Hello World\");\n",
        "\treturn 0;\n",
        "}\n"
      ],
      "metadata": {
        "colab": {
          "base_uri": "https://localhost:8080/"
        },
        "id": "SYYKoVuDr1yZ",
        "outputId": "478c8fd6-2e49-4e62-a55a-25020d529ad0"
      },
      "execution_count": null,
      "outputs": [
        {
          "output_type": "stream",
          "name": "stdout",
          "text": [
            "Hello World\n"
          ]
        }
      ]
    },
    {
      "cell_type": "markdown",
      "source": [
        "Now let's start with a program.  This code can be cut an paste in VS Code."
      ],
      "metadata": {
        "id": "HjMwf6HZhD2v"
      }
    },
    {
      "cell_type": "code",
      "source": [
        "%%cu\n",
        "#include <stdio.h>\n",
        "\n",
        "int main() {\n",
        "    // Integer data type - stores whole numbers without decimals\n",
        "    int myInt = 10;\n",
        "    printf(\"Integer value: %d - This is an example of an integer\\n\", myInt);\n",
        "\n",
        "    // Float data type - stores fractional numbers, containing one or more decimals\n",
        "    float myFloat = 3.14;\n",
        "    printf(\"Float value: %f - This is an example of a float\\n\", myFloat);\n",
        "\n",
        "    // Double data type - similar to float, but with double the precision\n",
        "    double myDouble = 9.82;\n",
        "    printf(\"Double value: %lf - This is an example of a double\\n\", myDouble);\n",
        "\n",
        "    // Character data type - stores a single character\n",
        "    char myChar = 'A';\n",
        "    printf(\"Char value: %c - This is an example of a char\\n\", myChar);\n",
        "\n",
        "    return 0;\n",
        "}\n",
        "\n"
      ],
      "metadata": {
        "colab": {
          "base_uri": "https://localhost:8080/"
        },
        "id": "-ttB0Qnear2x",
        "outputId": "1583d7d6-df00-4a21-87ca-2d52c43a8566"
      },
      "execution_count": null,
      "outputs": [
        {
          "output_type": "stream",
          "name": "stdout",
          "text": [
            "Integer value: 10 - This is an example of an integer\n",
            "Float value: 3.140000 - This is an example of a float\n",
            "Double value: 9.820000 - This is an example of a double\n",
            "Char value: A - This is an example of a char\n",
            "\n"
          ]
        }
      ]
    },
    {
      "cell_type": "markdown",
      "source": [
        "#include Statement:\n",
        "The #include statement is a preprocessor directive used in C to include the contents of a file or library in the program.\n",
        "\n",
        "In the example, #include <stdio.h> includes the **Standard Input Output header file** (stdio.h). This file contains declarations for input/output functions, such as printf and scanf.\n",
        "\n",
        "Including stdio.h is essential for programs that perform input and output operations.\n",
        "# main Function:\n",
        "The main function is the entry point of a C program. When you run a C program, execution starts with the main function.\n",
        "The syntax int main() declares a function named main that returns an integer. The parentheses () indicate that main takes no arguments (in this case).\n",
        "The body of the main function, enclosed in curly braces {}, contains the code that will be executed.\n",
        "# return 0 Statement:\n",
        "The return 0 statement in the main function signifies the successful completion of the program.\n",
        "return is a keyword that exits the function and returns a value to the caller. In the case of the main function, returning a value typically sends it back to the operating system.\n",
        "The value 0 is commonly used to indicate that the program executed successfully without errors. Non-zero values are often used to indicate different types of errors or abnormal terminations.\n",
        "Together, these components form the basic structure of a C program. The #include statement brings in necessary libraries, the main function defines where the program starts executing, and the return 0 statement indicates successful program completion."
      ],
      "metadata": {
        "id": "EOKgCCaBhKth"
      }
    },
    {
      "cell_type": "code",
      "source": [
        "%%cu\n",
        "#include <stdio.h>\n",
        "\n",
        "int main() {\n",
        "    // String (array of characters) - used to store sequences of characters\n",
        "    char myString[] = \"Hello, World!\";\n",
        "    printf(\"String value: %s - This is an example of a string\\n\", myString);\n",
        "\n",
        "    // Accessing individual characters in a string\n",
        "    printf(\"First character of the string: %c\\n\", myString[0]);\n",
        "    printf(\"Second character of the string: %c\\n\", myString[1]);\n",
        "\n",
        "    // Modifying a string by changing characters\n",
        "    myString[0] = 'J'; // Changing 'H' to 'J'\n",
        "    printf(\"Modified string: %s\\n\", myString);\n",
        "\n",
        "    return 0;\n",
        "}\n"
      ],
      "metadata": {
        "colab": {
          "base_uri": "https://localhost:8080/"
        },
        "id": "Uw7xfCFDavYQ",
        "outputId": "2fb5a538-08fa-476c-9b60-19bd7d165667"
      },
      "execution_count": null,
      "outputs": [
        {
          "output_type": "stream",
          "name": "stdout",
          "text": [
            "String value: Hello, World! - This is an example of a string\n",
            "First character of the string: H\n",
            "Second character of the string: e\n",
            "Modified string: Jello, World!\n",
            "\n"
          ]
        }
      ]
    },
    {
      "cell_type": "markdown",
      "source": [
        "TO understand the statement"
      ],
      "metadata": {
        "id": "ffNq48ZSkNn0"
      }
    },
    {
      "cell_type": "code",
      "source": [
        "    char myString[] = \"Hello, World!\";"
      ],
      "metadata": {
        "id": "g7SbntPkkDKe"
      },
      "execution_count": null,
      "outputs": []
    },
    {
      "cell_type": "markdown",
      "source": [
        " It's essential to grasp the concept of arrays in C, especially how they relate to strings.\n",
        "\n",
        "# Array Basics:\n",
        "An array in C is a collection of items stored at contiguous memory locations and elements are accessed using **indices**.\n",
        "The type of items stored in an array is specified during declaration.\n",
        "## Character Arrays:\n",
        "A character array is an array that stores characters.\n",
        "In C, strings are represented as arrays of characters, terminated by a null character '\\0'.\n",
        "## Declaration and Initialization:\n",
        "In your code, char myString[] declares an array of characters. The [] indicates that myString is an array.\n",
        "The statement also initializes the array with the string literal \"Hello, World!\".\n",
        "Implicit Size:\n",
        "When an array is initialized with a string literal, its size is implicitly determined by the length of the string, including the null terminator.\n",
        "The string \"Hello, World!\" is 13 characters long. Adding the null terminator, the total size of myString becomes 14 characters.\n",
        "# Memory Layout:\n",
        "The array myString will occupy 14 contiguous bytes in memory.\n",
        "Each element (character) of the array is stored in one of these bytes.\n",
        "The first character 'H' is stored at myString[0], the second character 'e' at myString[1], and so on, up to the null terminator at myString[13].\n",
        "# Null Terminator:\n",
        "The null character '\\0' marks the end of the string. It is automatically added at the end of the array when you initialize it with a string literal.\n",
        "It's important in C because it signals to functions like printf **where the string ends**.\n",
        "In summary, the statement char myString[] = \"Hello, World!\"; is declaring and initializing a character array to represent the string \"Hello, World!\". The array is automatically sized to fit the string and includes an extra byte for the null terminator, making it a valid C string."
      ],
      "metadata": {
        "id": "7XPuZPenj21w"
      }
    },
    {
      "cell_type": "markdown",
      "source": [
        "In the C programming language, the %s format specifier in the printf function is used to print a string.\n",
        "\n",
        "When you use printf to output text, %s is a placeholder in the string of characters that tells printf to expect a string (an array of characters) as an argument. printf then replaces %s with the actual string value provided."
      ],
      "metadata": {
        "id": "BqPEwjlNjEVY"
      }
    },
    {
      "cell_type": "markdown",
      "source": [],
      "metadata": {
        "id": "Ei1j8t1jwkZ8"
      }
    },
    {
      "cell_type": "markdown",
      "source": [
        "# Basic Math"
      ],
      "metadata": {
        "id": "h5DU0HJdw1j7"
      }
    },
    {
      "cell_type": "code",
      "source": [
        "%%cu\n",
        "#include <stdio.h>\n",
        "\n",
        "int main() {\n",
        "    int number1 = 5;\n",
        "    int number2 = 3;\n",
        "    int sum = number1 + number2;\n",
        "    printf(\"The sum of %d and %d is %d\\n\", number1, number2, sum);\n",
        "    return 0;\n",
        "}\n"
      ],
      "metadata": {
        "colab": {
          "base_uri": "https://localhost:8080/"
        },
        "id": "qsjQjHeYxCBM",
        "outputId": "c7b43979-1c67-46fc-a5fb-e531c20f6fcc"
      },
      "execution_count": null,
      "outputs": [
        {
          "output_type": "stream",
          "name": "stdout",
          "text": [
            "The sum of 5 and 3 is 8\n",
            "\n"
          ]
        }
      ]
    },
    {
      "cell_type": "markdown",
      "source": [
        "In C programming, the type of variables you use for arithmetic operations determines how the operation is carried out. This is particularly important in division operations. Let's look at the difference between integer and floating-point division and how to use **float** variables for division.\n",
        "\n",
        "**Integer Division**\n",
        "When you divide two integers in C, the result is also an integer. This means any fractional part (decimal part) of the result is discarded (not rounded, simply truncated). For example:"
      ],
      "metadata": {
        "id": "Q-pXe0zgxwjC"
      }
    },
    {
      "cell_type": "code",
      "source": [
        "%%cu\n",
        "#include <stdio.h>\n",
        "int main() {\n",
        "    int a = 5;\n",
        "    int b = 2;\n",
        "    int result = a / b; // The result is 2, not 2.5;\n",
        "    printf(\"The result is %d\", result);\n",
        "    return 0;\n",
        "  }\n"
      ],
      "metadata": {
        "colab": {
          "base_uri": "https://localhost:8080/"
        },
        "id": "7B2gdJh1x_tW",
        "outputId": "9ec03035-eb60-4b22-e433-b09538916ea0"
      },
      "execution_count": null,
      "outputs": [
        {
          "output_type": "stream",
          "name": "stdout",
          "text": [
            "The result is 2\n"
          ]
        }
      ]
    },
    {
      "cell_type": "markdown",
      "source": [
        "**Floating-point Division**\n",
        "If you want to perform division that includes the fractional part, you need to use floating-point numbers (**float** or **double**). When at least one operand is a floating-point number, the division operation is carried out in floating-point arithmetic, and the result includes the fractional part. For example:"
      ],
      "metadata": {
        "id": "URczbcFgz9cs"
      }
    },
    {
      "cell_type": "code",
      "source": [
        "%%cu\n",
        "#include <stdio.h>\n",
        "int main() {\n",
        "    float a = 5.0;\n",
        "    float b = 2.0;\n",
        "    float result = a / b; // The result is 2.5\n",
        "    printf(\"The result is %f\", result);\n",
        "    return 0;\n",
        "  }"
      ],
      "metadata": {
        "colab": {
          "base_uri": "https://localhost:8080/"
        },
        "id": "GNuLg3GS0TEs",
        "outputId": "829d4ecc-e121-4ede-a325-5885a18c6b7c"
      },
      "execution_count": null,
      "outputs": [
        {
          "output_type": "stream",
          "name": "stdout",
          "text": [
            "The result is 2.500000\n"
          ]
        }
      ]
    },
    {
      "cell_type": "markdown",
      "source": [
        "Here's a demonstration program that shows both types of division:"
      ],
      "metadata": {
        "id": "KhLfTbNR01w8"
      }
    },
    {
      "cell_type": "code",
      "source": [
        "%%cu\n",
        "#include <stdio.h>\n",
        "\n",
        "int main() {\n",
        "    // Integer division\n",
        "    int intA = 5;\n",
        "    int intB = 2;\n",
        "    int intResult = intA / intB;\n",
        "    printf(\"Integer division: %d / %d = %d\\n\", intA, intB, intResult);\n",
        "\n",
        "    // Floating-point division\n",
        "    float floatA = 5.0;\n",
        "    float floatB = 2.0;\n",
        "    float floatResult = floatA / floatB;\n",
        "    printf(\"Floating-point division: %.1f / %.1f = %.1f\\n\", floatA, floatB, floatResult);\n",
        "\n",
        "    // Mixing integer and float, which results in float division\n",
        "    float mixedResult = intA / floatB;\n",
        "    printf(\"Mixing types division: %d / %.1f = %.1f\\n\", intA, floatB, mixedResult);\n",
        "\n",
        "    return 0;\n",
        "}\n"
      ],
      "metadata": {
        "id": "NVWu9s0Ee2pU",
        "colab": {
          "base_uri": "https://localhost:8080/"
        },
        "outputId": "c519fb5b-eead-4de4-948a-733fb907559e"
      },
      "execution_count": null,
      "outputs": [
        {
          "output_type": "stream",
          "name": "stdout",
          "text": [
            "Integer division: 5 / 2 = 2\n",
            "Floating-point division: 5.0 / 2.0 = 2.5\n",
            "Mixing types division: 5 / 2.0 = 2.5\n",
            "\n"
          ]
        }
      ]
    },
    {
      "cell_type": "markdown",
      "source": [
        "Notice that in the third division, even though one of the operands (intA) is an integer, because the other operand (floatB) is a float, the result is a floating-point number that includes the decimal part.\n",
        "\n",
        "# Key Points\n",
        "* Integer division discards the fractional part, resulting in a whole number.\n",
        "* Floating-point division preserves the fractional part, resulting in a more precise outcome.\n",
        "* To ensure you perform floating-point division, at least one of the operands must be of type float or double."
      ],
      "metadata": {
        "id": "Q_jCdrvs1nvg"
      }
    },
    {
      "cell_type": "markdown",
      "source": [
        "# The modulus operator\n",
        "in C is denoted by the percent sign %. It is a binary operator that gives the remainder of the division of two integers. The modulus operator is very useful in programming for various tasks such as determining if a number is even or odd, performing operations in a circular array, or just to obtain the remainder after division."
      ],
      "metadata": {
        "id": "71YowCkS3N_9"
      }
    },
    {
      "cell_type": "code",
      "source": [
        "// this program will not run in Collab because the the notebook can't accept input from the console\n",
        "// it can be run in visual sudio or on the command line with a c compiler\n",
        "#include <stdio.h>\n",
        "\n",
        "int main() {\n",
        "    int number;\n",
        "\n",
        "    printf(\"Welcome to the Even or Odd game!\\n\");\n",
        "    printf(\"Enter a number to check if it's even or odd (-1 to quit): \");\n",
        "\n",
        "    while(1) {\n",
        "        scanf(\"%d\", &number);\n",
        "\n",
        "        // Check if the user wants to quit the game\n",
        "        if(number == -1) {\n",
        "            printf(\"Thanks for playing! Goodbye!\\n\");\n",
        "            break;\n",
        "        }\n",
        "\n",
        "        // Use modulus operator to determine even or odd\n",
        "        if(number % 2 == 0) {\n",
        "            printf(\"%d is even.\\n\", number);\n",
        "        } else {\n",
        "            printf(\"%d is odd.\\n\", number);\n",
        "        }\n",
        "\n",
        "        printf(\"Enter another number (-1 to quit): \");\n",
        "    }\n",
        "\n",
        "    return 0;\n",
        "}"
      ],
      "metadata": {
        "colab": {
          "base_uri": "https://localhost:8080/",
          "height": 143
        },
        "id": "45SDHphA4sz-",
        "outputId": "ee9b7dab-95c7-4a4b-d464-47084cb958fb"
      },
      "execution_count": null,
      "outputs": [
        {
          "output_type": "error",
          "ename": "SyntaxError",
          "evalue": "unterminated string literal (detected at line 1) (<ipython-input-19-b8b3c0930dc8>, line 1)",
          "traceback": [
            "\u001b[0;36m  File \u001b[0;32m\"<ipython-input-19-b8b3c0930dc8>\"\u001b[0;36m, line \u001b[0;32m1\u001b[0m\n\u001b[0;31m    // this program will not run in Collab because the the notebook can't accept input from the console\u001b[0m\n\u001b[0m                                                                       ^\u001b[0m\n\u001b[0;31mSyntaxError\u001b[0m\u001b[0;31m:\u001b[0m unterminated string literal (detected at line 1)\n"
          ]
        }
      ]
    },
    {
      "cell_type": "markdown",
      "source": [
        "Now let's do something a little more fun, we will develop our first game: Rock Paper Scissors, first compile the code and run it.  Then we will look at the code and see what's going on."
      ],
      "metadata": {
        "id": "B2o7qnTd9K8M"
      }
    },
    {
      "cell_type": "code",
      "source": [
        "#include <stdio.h>\n",
        "#include <stdlib.h>\n",
        "#include <time.h>\n",
        "\n",
        "int main() {\n",
        "    // Array to store the choices\n",
        "    char *choices[3] = {\"Rock\", \"Paper\", \"Scissors\"};\n",
        "\n",
        "    // Seed the random number generator\n",
        "    srand(time(NULL));\n",
        "\n",
        "    // Generate a random number between 0 and 2 for the computer's choice\n",
        "    int computerChoice = rand() % 3;\n",
        "\n",
        "    // Get the user's choice\n",
        "    int userChoice;\n",
        "    printf(\"Choose Rock (0), Paper (1), or Scissors (2): \");\n",
        "    scanf(\"%d\", &userChoice);\n",
        "\n",
        "    // Check for valid input\n",
        "    if (userChoice < 0 || userChoice > 2) {\n",
        "        printf(\"Invalid choice. Please enter 0, 1, or 2.\\n\");\n",
        "        return 1;\n",
        "    }\n",
        "\n",
        "    // Print out both choices\n",
        "    printf(\"You chose %s. Computer chose %s.\\n\", choices[userChoice], choices[computerChoice]);\n",
        "\n",
        "    // Determine the winner using if statements\n",
        "    if (userChoice == computerChoice) {\n",
        "        printf(\"It's a draw!\\n\");\n",
        "    } else if ((userChoice == 0 && computerChoice == 2) ||\n",
        "               (userChoice == 1 && computerChoice == 0) ||\n",
        "               (userChoice == 2 && computerChoice == 1)) {\n",
        "        printf(\"You win!\\n\");\n",
        "    } else {\n",
        "        printf(\"You lose!\\n\");\n",
        "    }\n",
        "\n",
        "    return 0;\n",
        "}"
      ],
      "metadata": {
        "id": "xaQLygW_0_LA"
      },
      "execution_count": null,
      "outputs": []
    },
    {
      "cell_type": "markdown",
      "source": [
        "# How the Game Works:\n",
        "* **Initialize the Choices**: We start by creating an array of strings representing the choices: Rock, Paper, and Scissors.\n",
        "* **Random Choice for Computer**: We use rand() to generate a random number, which is then used to represent the computer's choice. The rand() function generates a pseudo-random integer, which we limit to a number between 0 and 2 using the modulus operator %.\n",
        "* **User Input**: We prompt the user to input their choice by entering 0, 1, or 2, which corresponds to Rock, Paper, and Scissors, respectively.\n",
        "* **Validity Check**: We check if the user entered a valid choice. If not, we print an error message and end the program.\n",
        "* **Determine the Winner**: We use a series of if statements to compare the user's choice against the computer's choice and determine the winner according to the rules of Rock, Paper, Scissors.\n",
        "* **Print the Result**: We print out the user's choice, the computer's choice, and the result of the game."
      ],
      "metadata": {
        "id": "tdML6CJz-LwE"
      }
    },
    {
      "cell_type": "code",
      "source": [],
      "metadata": {
        "id": "1CUZ7gMK-Kh3"
      },
      "execution_count": null,
      "outputs": []
    },
    {
      "cell_type": "markdown",
      "source": [
        "### Basic Concepts:\n",
        "\n",
        "1. **Arrays in C**: An array is a collection of elements of the same type, stored in contiguous memory locations. For example, `int numbers[5];` declares an array of 5 integers.\n",
        "\n",
        "2. **Pointers in C**: A pointer is a variable that stores the memory address of another variable. The `*` is used to declare a pointer and also to dereference a pointer (to access the value at the memory address the pointer points to).\n",
        "\n",
        "### Understanding `char *choices[3]`:\n",
        "\n",
        "1. **`char *`**: This part of the declaration indicates that what follows is going to be a pointer to a `char`. In C, strings (sequences of characters) are represented as arrays of `char`, and a string can be accessed through a pointer to its first character.\n",
        "\n",
        "2. **`choices[3]`**: This declares `choices` as an array with 3 elements.\n",
        "\n",
        "3. **Combining the Two**: So, `char *choices[3]` declares an array named `choices`, where each element in this array is a pointer to a `char`. In the context of this program, each element of the array is a pointer to the first character of a string (since strings in C are represented as arrays of characters).\n",
        "\n",
        "### Practical Explanation:\n",
        "\n",
        "- In the Rock, Paper, Scissors game, we use `char *choices[3]` to create an array of three strings. These strings are \"Rock\", \"Paper\", and \"Scissors\".\n",
        "\n",
        "- The array looks like this in memory:\n",
        "\n",
        "choices: [ pointer to \"Rock\", pointer to \"Paper\", pointer to \"Scissors\" ]\n",
        "\n",
        "\n",
        "- Each element of the array (`choices[0]`, `choices[1]`, `choices[2]`) is a pointer pointing to the first character of each string.\n",
        "\n",
        "### Example Usage:\n",
        "\n",
        "- `choices[0]` points to the string \"Rock\".\n",
        "- `choices[1]` points to the string \"Paper\".\n",
        "- `choices[2]` points to the string \"Scissors\".\n",
        "\n",
        "When you use `choices[index]`, where `index` is 0, 1, or 2, you are accessing a pointer to one of these strings.\n",
        "\n",
        "This concept is a foundation for understanding how strings and arrays work in C. In this context, the asterisk `*` in `char *` is crucial because it creates an array of pointers, each pointing to a string, rather than an array of simple characters or other types of data.\n"
      ],
      "metadata": {
        "id": "xFpcnSOm_iBs"
      }
    },
    {
      "cell_type": "markdown",
      "source": [
        "Now, let's make this better.  Instead of playing for one time. Let's ask the user if they want to play again."
      ],
      "metadata": {
        "id": "HTe4zp4q3UOH"
      }
    },
    {
      "cell_type": "code",
      "source": [
        "#include <stdio.h>\n",
        "#include <stdlib.h>\n",
        "#include <time.h>\n",
        "\n",
        "int main() {\n",
        "    // Array to store the choices\n",
        "    char *choices[3] = {\"Rock\", \"Paper\", \"Scissors\"};\n",
        "\n",
        "    // Seed the random number generator\n",
        "    srand(time(NULL));\n",
        "\n",
        "    while(1) {\n",
        "        // Generate a random number between 0 and 2 for the computer's choice\n",
        "        int computerChoice = rand() % 3;\n",
        "\n",
        "        // Get the user's choice\n",
        "        int userChoice;\n",
        "        printf(\"Choose Rock (0), Paper (1), or Scissors (2): \");\n",
        "        scanf(\"%d\", &userChoice);\n",
        "\n",
        "        // Check for valid input\n",
        "        if (userChoice < 0 || userChoice > 2) {\n",
        "            printf(\"Invalid choice. Please enter 0, 1, or 2.\\n\");\n",
        "            continue; // Skip to the next iteration of the loop\n",
        "        }\n",
        "\n",
        "        // Print out both choices\n",
        "        printf(\"You chose %s. Computer chose %s.\\n\", choices[userChoice], choices[computerChoice]);\n",
        "\n",
        "        // Determine the winner using if statements\n",
        "        if (userChoice == computerChoice) {\n",
        "            printf(\"It's a draw!\\n\");\n",
        "        } else if ((userChoice == 0 && computerChoice == 2) ||\n",
        "                   (userChoice == 1 && computerChoice == 0) ||\n",
        "                   (userChoice == 2 && computerChoice == 1)) {\n",
        "            printf(\"You win!\\n\");\n",
        "        } else {\n",
        "            printf(\"You lose!\\n\");\n",
        "        }\n",
        "\n",
        "        // Ask the user if they want to play again\n",
        "        char playAgain;\n",
        "        printf(\"Play again? (y/n): \");\n",
        "        scanf(\" %c\", &playAgain); // Notice the space before %c to skip any newline character left in the input buffer\n",
        "\n",
        "        if (playAgain != 'y' && playAgain != 'Y') {\n",
        "            printf(\"Thanks for playing! Goodbye!\\n\");\n",
        "            break; // Exit the loop if the user does not want to play again\n",
        "        }\n",
        "    }\n",
        "\n",
        "    return 0;\n",
        "}"
      ],
      "metadata": {
        "id": "6Afz3sP63r34"
      },
      "execution_count": null,
      "outputs": []
    },
    {
      "cell_type": "markdown",
      "source": [
        "### Explanation of Changes:\n",
        "\n",
        "1. **Main Loop**: The game is wrapped in a `while(1)` loop, which will keep running until explicitly broken out of.\n",
        "\n",
        "2. **Continue Statement**: If the user inputs an invalid choice, the `continue` statement is used to skip the rest of the loop iteration and start a new game.\n",
        "\n",
        "3. **Play Again Prompt**: After each game, the user is asked if they want to play again. The `scanf(\" %c\", &playAgain);` reads the user's response.\n",
        "\n",
        "4. **Breaking the Loop**: If the user responds with anything other than 'y' or 'Y', the loop is broken, and the game ends.\n",
        "\n",
        "5. **Space before `%c` in `scanf`**: This is important. Without the leading space, `scanf` might read the newline character left in the input buffer from the previous input, leading to incorrect behavior.\n",
        "\n",
        "This modification allows the game to be played multiple times until the user decides to quit.\n"
      ],
      "metadata": {
        "id": "JJVSDiwU5Via"
      }
    }
  ]
}